{
 "cells": [
  {
   "cell_type": "markdown",
   "id": "7310d329",
   "metadata": {},
   "source": [
    "# week 6"
   ]
  },
  {
   "cell_type": "markdown",
   "id": "0fd5dbef",
   "metadata": {},
   "source": [
    "In this week 3 notebook,I have given a brief introduction on data science tools.\n",
    "\n"
   ]
  },
  {
   "cell_type": "markdown",
   "id": "21dc3487",
   "metadata": {},
   "source": [
    " Data Science Languages\n",
    "\n",
    "- Python\n",
    "- R\n",
    "- SQL\n",
    "- Julia\n",
    "- Scala\n",
    "- MATLAB\n",
    "- SAS\n",
    "- Java\n",
    "- C++\n",
    "- Julia\n",
    "- Haskell\n",
    "- Perl\n",
    "- Ruby\n",
    "- Go\n",
    "- Rust\n",
    "- Swift\n",
    "- JavaScript\n",
    "- TypeScript\n"
   ]
  },
  {
   "cell_type": "markdown",
   "id": "ad5090bc",
   "metadata": {},
   "source": [
    " data science libraries are\n",
    "- NumPy\n",
    "- Pandas\n",
    "- Matplotlib\n",
    "- Seaborn\n",
    "- Scikit-learn\n",
    "- TensorFlow\n",
    "- Keras\n",
    "- PyTorch\n",
    "- SciPy\n",
    "- Statsmodels\n",
    "- NLTK (Natural Language Toolkit)\n",
    "- Gensim\n",
    "- XGBoost\n",
    "- LightGBM\n",
    "- CatBoost\n",
    "- OpenCV\n",
    "- Plotly\n",
    "- NetworkX\n",
    "- Dask\n",
    "- Spark (PySpark)\n"
   ]
  },
  {
   "cell_type": "markdown",
   "id": "1a3e5152",
   "metadata": {},
   "source": [
    " Data Science Tools\n",
    "\n",
    "Below is a table listing some popular data science tools:\n",
    "\n",
    "| Tool           | Description                                               |\n",
    "|----------------|-----------------------------------------------------------|\n",
    "| Python         | A widely used programming language for data science        | \n",
    "| R              | A statistical programming language                          |\n",
    "| Jupyter Notebook   | An interactive computing environment for data analysis    \n",
    "| Anaconda       | A Python distribution for data science and machine learning | \n",
    "| TensorFlow     | An open-source machine learning framework                  | \n",
    "| PyTorch        | An open-source deep learning framework                     |\n",
    "| scikit-learn   | A machine learning library for Python                      | \n",
    "| pandas         | A data manipulation and analysis library for Python        | \n",
    "| NumPy          | A library for numerical computing with Python              |         \n",
    "| SQL            | A language for managing and analyzing relational databases |                                \n"
   ]
  },
  {
   "cell_type": "markdown",
   "id": "0d794028",
   "metadata": {},
   "source": [
    " Arithmetic Expression Examples\n",
    "\n",
    "Here are some examples of arithmetic expressions:\n",
    "\n",
    "1. Addition: To add two numbers, you use the `+` operator. For example:\n",
    "   - `2 + 3 = 5`\n",
    "   - `10 + 7 = 17`\n",
    "\n",
    "2. Subtraction: To subtract one number from another, you use the `-` operator. For example:\n",
    "   - `5 - 2 = 3`\n",
    "   - `8 - 4 = 4`\n",
    "\n",
    "3. Multiplication: To multiply two numbers, you use the `*` operator. For example:\n",
    "   - `3 * 4 = 12`\n",
    "   - `6 * 2 = 12`\n",
    "\n",
    "4. Division: To divide one number by another, you use the `/` operator. For example:\n",
    "   - `10 / 2 = 5`\n",
    "   - `15 / 3 = 5`\n",
    "\n",
    "5. Exponentiation: To raise a number to a power, you use the `**` operator. For example:\n",
    "   - `2 ** 3 = 8` (2 raised to the power of 3)\n",
    "   - `4 ** 2 = 16` (4 raised to the power of 2)\n",
    "\n",
    "\n"
   ]
  },
  {
   "cell_type": "code",
   "execution_count": 1,
   "id": "528ada1a",
   "metadata": {},
   "outputs": [
    {
     "name": "stdout",
     "output_type": "stream",
     "text": [
      "The product of 5 and 3 is: 15\n",
      "The sum of 10 and 7 is: 17\n"
     ]
    }
   ],
   "source": [
    "# Multiply and Add Numbers\n",
    "\n",
    "# Multiplication\n",
    "num1 = 5\n",
    "num2 = 3\n",
    "product = num1 * num2\n",
    "print(\"The product of\", num1, \"and\", num2, \"is:\", product)\n",
    "\n",
    "# Addition\n",
    "num3 = 10\n",
    "num4 = 7\n",
    "sum = num3 + num4\n",
    "print(\"The sum of\", num3, \"and\", num4, \"is:\", sum)\n"
   ]
  },
  {
   "cell_type": "code",
   "execution_count": 3,
   "id": "6d0c75f1",
   "metadata": {},
   "outputs": [
    {
     "name": "stdout",
     "output_type": "stream",
     "text": [
      "125 minutes is equal to 2 hours and 5 minutes.\n"
     ]
    }
   ],
   "source": [
    "##Convert minutes to hours and minutes\n",
    "\n",
    "total_minutes = 125\n",
    "\n",
    "hours = total_minutes // 60  # Integer division to get the whole number of hours\n",
    "remaining_minutes = total_minutes % 60  # Modulo operator to get the remaining minutes\n",
    "\n",
    "print(f\"{total_minutes} minutes is equal to {hours} hours and {remaining_minutes} minutes.\")\n"
   ]
  },
  {
   "cell_type": "markdown",
   "id": "009564c3",
   "metadata": {},
   "source": [
    " Objectives\n",
    "\n",
    "In this notebook, we aim to achieve the following objectives:\n",
    "\n",
    "1. Understand the basic concepts of arithmetic expressions.\n",
    "2. Perform addition, subtraction, multiplication, division, and exponentiation operations.\n",
    "3. Learn how to use parentheses to control the order of operations.\n",
    "4. Explore the use of variables to store and manipulate values.\n",
    "5. Practice converting minutes into hours and minutes.\n",
    "6. Apply arithmetic expressions in real-life scenarios and problem-solving.\n",
    "7. Gain confidence in using Jupyter Notebook for mathematical calculations.\n",
    "\n",
    "By the end of this notebook, we should have a solid understanding of arithmetic expressions and how to apply them effectively in various contexts.\n"
   ]
  },
  {
   "cell_type": "code",
   "execution_count": null,
   "id": "aa9cd010",
   "metadata": {},
   "outputs": [],
   "source": [
    "Author\n",
    "Sapna Chaudhary"
   ]
  }
 ],
 "metadata": {
  "kernelspec": {
   "display_name": "Python 3 (ipykernel)",
   "language": "python",
   "name": "python3"
  },
  "language_info": {
   "codemirror_mode": {
    "name": "ipython",
    "version": 3
   },
   "file_extension": ".py",
   "mimetype": "text/x-python",
   "name": "python",
   "nbconvert_exporter": "python",
   "pygments_lexer": "ipython3",
   "version": "3.11.4"
  }
 },
 "nbformat": 4,
 "nbformat_minor": 5
}
